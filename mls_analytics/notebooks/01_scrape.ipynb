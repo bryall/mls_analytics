{
 "cells": [
  {
   "cell_type": "markdown",
   "source": [
    "Test using requests cache with the sports reference library"
   ],
   "metadata": {
    "collapsed": false,
    "pycharm": {
     "name": "#%% md\n"
    }
   }
  },
  {
   "cell_type": "code",
   "execution_count": 1,
   "metadata": {
    "collapsed": true,
    "pycharm": {
     "is_executing": false
    }
   },
   "outputs": [],
   "source": [
    "import requests\n",
    "import requests_cache\n",
    "\n",
    "requests_cache.install_cache('cache', backend='sqlite', expire_after=300)"
   ]
  },
  {
   "cell_type": "code",
   "execution_count": 2,
   "outputs": [
    {
     "name": "stdout",
     "text": [
      "Tue, Nov 6, 2018\nSat, Nov 10, 2018\nThu, Nov 15, 2018\nFri, Nov 16, 2018\nSun, Nov 18, 2018\nFri, Nov 23, 2018\nWed, Nov 28, 2018\nSat, Dec 1, 2018\nThu, Dec 6, 2018\nSun, Dec 9, 2018\nSat, Dec 15, 2018\nThu, Dec 20, 2018\nSat, Dec 29, 2018\nThu, Jan 3, 2019\nTue, Jan 8, 2019\nFri, Jan 11, 2019\nTue, Jan 15, 2019\nSat, Jan 19, 2019\nWed, Jan 23, 2019\nSun, Jan 27, 2019\nThu, Jan 31, 2019\nSun, Feb 3, 2019\nSat, Feb 9, 2019\nTue, Feb 12, 2019\nSat, Feb 16, 2019\nTue, Feb 19, 2019\nSat, Feb 23, 2019\nWed, Feb 27, 2019\nSat, Mar 2, 2019\nTue, Mar 5, 2019\nSat, Mar 9, 2019\nFri, Mar 15, 2019\nThu, Mar 21, 2019\nSat, Mar 23, 2019\nThu, Mar 28, 2019\nSat, Mar 30, 2019\n"
     ],
     "output_type": "stream"
    }
   ],
   "source": [
    "from sportsreference.ncaab.schedule import Schedule\n",
    "\n",
    "purdue_schedule = Schedule('purdue')\n",
    "for game in purdue_schedule:\n",
    "    print(game.date)\n"
   ],
   "metadata": {
    "collapsed": false,
    "pycharm": {
     "name": "#%%\n",
     "is_executing": false
    }
   }
  }
 ],
 "metadata": {
  "language_info": {
   "codemirror_mode": {
    "name": "ipython",
    "version": 2
   },
   "file_extension": ".py",
   "mimetype": "text/x-python",
   "name": "python",
   "nbconvert_exporter": "python",
   "pygments_lexer": "ipython2",
   "version": "2.7.6"
  },
  "kernelspec": {
   "name": "python3",
   "language": "python",
   "display_name": "Python 3"
  },
  "pycharm": {
   "stem_cell": {
    "cell_type": "raw",
    "source": [],
    "metadata": {
     "collapsed": false
    }
   }
  }
 },
 "nbformat": 4,
 "nbformat_minor": 0
}